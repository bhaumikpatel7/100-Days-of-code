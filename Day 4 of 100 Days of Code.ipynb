{
 "cells": [
  {
   "cell_type": "code",
   "execution_count": 1,
   "id": "84487944",
   "metadata": {},
   "outputs": [],
   "source": [
    "import random"
   ]
  },
  {
   "cell_type": "code",
   "execution_count": 2,
   "id": "1c8c46c4",
   "metadata": {},
   "outputs": [
    {
     "name": "stdout",
     "output_type": "stream",
     "text": [
      "Tails\n"
     ]
    }
   ],
   "source": [
    "import random\n",
    "\n",
    "random_side = random.randint(0, 1)\n",
    "if random_side == 1:\n",
    "  print(\"Heads\")\n",
    "else:\n",
    "  print(\"Tails\")"
   ]
  },
  {
   "cell_type": "code",
   "execution_count": 3,
   "id": "458e0e1b",
   "metadata": {},
   "outputs": [
    {
     "name": "stdout",
     "output_type": "stream",
     "text": [
      "Give me everybody's names, separated by a comma. Angela, Ben, Jenny, Michael, Chloe\n",
      " Jenny is going to pay the bill\n"
     ]
    }
   ],
   "source": [
    "# Split string method\n",
    "names_string = input(\"Give me everybody's names, separated by a comma. \")\n",
    "names = names_string.split(\", \")\n",
    "# 🚨 Don't change the code above 👆\n",
    "\n",
    "#Write your code below this line 👇\n",
    "import random\n",
    "c = len(names)\n",
    "\n",
    "a = random.randint(0,c-1)\n",
    "\n",
    "print(f\" {names[a]} is going to pay the bill\")\n",
    "\n"
   ]
  },
  {
   "cell_type": "code",
   "execution_count": 7,
   "id": "3bb19ed3",
   "metadata": {},
   "outputs": [
    {
     "name": "stdout",
     "output_type": "stream",
     "text": [
      "['⬜️', '⬜️', '⬜️']\n",
      "['⬜️', '⬜️', '⬜️']\n",
      "['⬜️', '⬜️', '⬜️']\n",
      "Where do you want to put the treasure? 21\n",
      "['⬜️', 'X', '⬜️']\n",
      "['⬜️', '⬜️', '⬜️']\n",
      "['⬜️', '⬜️', '⬜️']\n"
     ]
    }
   ],
   "source": [
    "# 🚨 Don't change the code below 👇\n",
    "row1 = [\"⬜️\",\"⬜️\",\"⬜️\"]\n",
    "row2 = [\"⬜️\",\"⬜️\",\"⬜️\"]\n",
    "row3 = [\"⬜️\",\"⬜️\",\"⬜️\"]\n",
    "map = [row1, row2, row3]\n",
    "print(f\"{row1}\\n{row2}\\n{row3}\")\n",
    "position = input(\"Where do you want to put the treasure? \")\n",
    "# 🚨 Don't change the code above 👆\n",
    "\n",
    "#Write your code below this row 👇\n",
    "\n",
    "\n",
    "a=int(position[0])\n",
    "b=int(position[1])\n",
    "\n",
    "selected_row = map[b-1]\n",
    "selected_row[a-1]=\"X\"\n",
    "#Write your code above this row 👆\n",
    "\n",
    "# 🚨 Don't change the code below 👇\n",
    "print(f\"{row1}\\n{row2}\\n{row3}\")"
   ]
  },
  {
   "cell_type": "code",
   "execution_count": 8,
   "id": "8dfb7c0e",
   "metadata": {},
   "outputs": [
    {
     "name": "stdout",
     "output_type": "stream",
     "text": [
      "What do you choose? Type 0 for Rock, 1 for Paper or 2 for Scissors.2\n",
      "\n",
      "    _______\n",
      "---'   ____)____\n",
      "          ______)\n",
      "       __________)\n",
      "      (____)\n",
      "---.__(___)\n",
      "\n",
      "the computer chosen\n",
      "\n",
      "    _______\n",
      "---'   ____)____\n",
      "          ______)\n",
      "       __________)\n",
      "      (____)\n",
      "---.__(___)\n",
      "\n",
      "It's a draw\n"
     ]
    }
   ],
   "source": [
    "rock = '''\n",
    "    _______\n",
    "---'   ____)\n",
    "      (_____)\n",
    "      (_____)\n",
    "      (____)\n",
    "---.__(___)\n",
    "'''\n",
    "\n",
    "paper = '''\n",
    "    _______\n",
    "---'   ____)____\n",
    "          ______)\n",
    "          _______)\n",
    "         _______)\n",
    "---.__________)\n",
    "'''\n",
    "\n",
    "scissors = '''\n",
    "    _______\n",
    "---'   ____)____\n",
    "          ______)\n",
    "       __________)\n",
    "      (____)\n",
    "---.__(___)\n",
    "'''\n",
    "\n",
    "#Write your code below this line 👇\n",
    "\n",
    "\n",
    "import random\n",
    "choose = int(input('''What do you choose? Type 0 for Rock, 1 for Paper or 2 for Scissors.'''))\n",
    "\n",
    "game_img=[rock,paper,scissors]\n",
    "print(game_img[choose])\n",
    "\n",
    "print(\"the computer chosen\")\n",
    "\n",
    "computer_random=random.randint(0,2)\n",
    "\n",
    "print(game_img[computer_random])\n",
    "\n",
    "if choose >= 3 or choose < 0: \n",
    "  print(\"You typed an invalid number, you lose!\") \n",
    "elif choose == 0 and computer_random == 2:\n",
    "  print(\"You win!\")\n",
    "elif computer_random == 0 and choose == 2:\n",
    "  print(\"You lose\")\n",
    "elif computer_random > choose:\n",
    "  print(\"You lose\")\n",
    "elif choose > computer_random:\n",
    "  print(\"You win!\")\n",
    "elif computer_random == choose:\n",
    "  print(\"It's a draw\")\n",
    "\n"
   ]
  },
  {
   "cell_type": "code",
   "execution_count": null,
   "id": "871b0032",
   "metadata": {},
   "outputs": [],
   "source": []
  }
 ],
 "metadata": {
  "kernelspec": {
   "display_name": "Python 3 (ipykernel)",
   "language": "python",
   "name": "python3"
  },
  "language_info": {
   "codemirror_mode": {
    "name": "ipython",
    "version": 3
   },
   "file_extension": ".py",
   "mimetype": "text/x-python",
   "name": "python",
   "nbconvert_exporter": "python",
   "pygments_lexer": "ipython3",
   "version": "3.9.12"
  }
 },
 "nbformat": 4,
 "nbformat_minor": 5
}
