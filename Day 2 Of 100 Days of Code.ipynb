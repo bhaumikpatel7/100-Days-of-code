{
 "cells": [
  {
   "cell_type": "code",
   "execution_count": 1,
   "id": "c130c352",
   "metadata": {},
   "outputs": [
    {
     "name": "stdout",
     "output_type": "stream",
     "text": [
      "Type a two digit number: 12\n",
      "3\n"
     ]
    }
   ],
   "source": [
    "# 🚨 Don't change the code below 👇\n",
    "two_digit_number = input(\"Type a two digit number: \")\n",
    "# 🚨 Don't change the code above 👆\n",
    "\n",
    "####################################\n",
    "#Write your code below this line 👇\n",
    "c= two_digit_number[1]\n",
    "d= two_digit_number[0]\n",
    "print(int(c)+int(d))"
   ]
  },
  {
   "cell_type": "code",
   "execution_count": 2,
   "id": "6b12977e",
   "metadata": {},
   "outputs": [
    {
     "name": "stdout",
     "output_type": "stream",
     "text": [
      "enter your height in m: 1.8\n",
      "enter your weight in kg: 65\n",
      "20\n"
     ]
    }
   ],
   "source": [
    "# 🚨 Don't change the code below 👇\n",
    "height = input(\"enter your height in m: \")\n",
    "weight = input(\"enter your weight in kg: \")\n",
    "# 🚨 Don't change the code above 👆\n",
    "\n",
    "#Write your code below this line 👇\n",
    "\n",
    "\n",
    "BMI = int(int(weight) // (float(height)**2))\n",
    "\n",
    "print(BMI)\n"
   ]
  },
  {
   "cell_type": "code",
   "execution_count": 3,
   "id": "91933d21",
   "metadata": {},
   "outputs": [
    {
     "name": "stdout",
     "output_type": "stream",
     "text": [
      "What is your current age?89\n",
      "you have 365 days,52 weeks and 12 months left\n"
     ]
    }
   ],
   "source": [
    "# 🚨 Don't change the code below 👇\n",
    "age = input(\"What is your current age?\")\n",
    "# 🚨 Don't change the code above 👆\n",
    "\n",
    "#Write your code below this line 👇\n",
    "\n",
    "c=int(90-int(age))\n",
    "ndays=c*365\n",
    "nweeks=c*52\n",
    "nmonths=c*12\n",
    "\n",
    "print(f\"you have {ndays} days,{nweeks} weeks and {nmonths} months left\")\n"
   ]
  },
  {
   "cell_type": "code",
   "execution_count": 22,
   "id": "fd8c8888",
   "metadata": {},
   "outputs": [
    {
     "name": "stdout",
     "output_type": "stream",
     "text": [
      "welcome to thr tip calculator\n"
     ]
    }
   ],
   "source": [
    "print(\"welcome to thr tip calculator\")"
   ]
  },
  {
   "cell_type": "code",
   "execution_count": 24,
   "id": "4e15b1cd",
   "metadata": {},
   "outputs": [
    {
     "name": "stdout",
     "output_type": "stream",
     "text": [
      "what is the total bill?123\n",
      "123\n"
     ]
    }
   ],
   "source": [
    "a=int(input(\"what is the total bill?\"))\n",
    "print(a)"
   ]
  },
  {
   "cell_type": "code",
   "execution_count": 25,
   "id": "1c65981f",
   "metadata": {},
   "outputs": [
    {
     "name": "stdout",
     "output_type": "stream",
     "text": [
      "how many percentage tip would you like to give? 10,12 or 1510\n",
      "10\n"
     ]
    }
   ],
   "source": [
    "b=int(input(\"how many percentage tip would you like to give? 10,12 or 15\"))\n",
    "print(b)"
   ]
  },
  {
   "cell_type": "code",
   "execution_count": 27,
   "id": "b1b95586",
   "metadata": {},
   "outputs": [
    {
     "name": "stdout",
     "output_type": "stream",
     "text": [
      "135.3\n"
     ]
    }
   ],
   "source": [
    "a1=a+a*(b/100)\n",
    "print(a1)"
   ]
  },
  {
   "cell_type": "code",
   "execution_count": 28,
   "id": "f5bc82ad",
   "metadata": {},
   "outputs": [
    {
     "name": "stdout",
     "output_type": "stream",
     "text": [
      "how many people to split ther bill?4\n",
      "4\n"
     ]
    }
   ],
   "source": [
    "c=int(input(\"how many people to split ther bill?\"))\n",
    "print(c)"
   ]
  },
  {
   "cell_type": "code",
   "execution_count": 29,
   "id": "e2219264",
   "metadata": {},
   "outputs": [
    {
     "name": "stdout",
     "output_type": "stream",
     "text": [
      "33.825\n"
     ]
    }
   ],
   "source": [
    "d=a1/c\n",
    "print(d)"
   ]
  },
  {
   "cell_type": "code",
   "execution_count": 30,
   "id": "ea541649",
   "metadata": {},
   "outputs": [
    {
     "name": "stdout",
     "output_type": "stream",
     "text": [
      "Each person should pay: 33.825\n"
     ]
    }
   ],
   "source": [
    "print(\"Each person should pay:\",d)"
   ]
  },
  {
   "cell_type": "code",
   "execution_count": 33,
   "id": "9b5282e3",
   "metadata": {},
   "outputs": [
    {
     "name": "stdout",
     "output_type": "stream",
     "text": [
      "welcome to the tip calculator\n",
      "what is the total bill?123\n",
      "how many percentage tip would you like to give? 10,12 or 1510\n",
      "how many people to split ther bill?4\n",
      "Each person should pay: 33.825\n"
     ]
    }
   ],
   "source": [
    "#Tip Calculator\n",
    "\n",
    "print(\"welcome to the tip calculator\")\n",
    "a=int(input(\"what is the total bill?\"))\n",
    "b=int(input(\"how many percentage tip would you like to give? 10,12 or 15\"))\n",
    "a1=a+a*(b/100)\n",
    "c=int(input(\"how many people to split ther bill?\"))\n",
    "d=a1/c\n",
    "print(\"Each person should pay:\",d)"
   ]
  },
  {
   "cell_type": "code",
   "execution_count": null,
   "id": "b62f0a0a",
   "metadata": {},
   "outputs": [],
   "source": []
  }
 ],
 "metadata": {
  "kernelspec": {
   "display_name": "Python 3 (ipykernel)",
   "language": "python",
   "name": "python3"
  },
  "language_info": {
   "codemirror_mode": {
    "name": "ipython",
    "version": 3
   },
   "file_extension": ".py",
   "mimetype": "text/x-python",
   "name": "python",
   "nbconvert_exporter": "python",
   "pygments_lexer": "ipython3",
   "version": "3.9.12"
  }
 },
 "nbformat": 4,
 "nbformat_minor": 5
}
