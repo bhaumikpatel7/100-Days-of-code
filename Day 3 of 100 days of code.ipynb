{
 "cells": [
  {
   "cell_type": "code",
   "execution_count": 1,
   "id": "21c00c5f",
   "metadata": {},
   "outputs": [
    {
     "name": "stdout",
     "output_type": "stream",
     "text": [
      "Which number do you want to check? 12\n",
      "This is an even number.\n"
     ]
    }
   ],
   "source": [
    "# 🚨 Don't change the code below 👇\n",
    "number = int(input(\"Which number do you want to check? \"))\n",
    "# 🚨 Don't change the code above 👆\n",
    "\n",
    "#Write your code below this line 👇\n",
    "\n",
    "if (number%2)==0:\n",
    "  print(\"This is an even number.\")\n",
    "else:\n",
    "  print(\"This is an odd number.\")"
   ]
  },
  {
   "cell_type": "code",
   "execution_count": 2,
   "id": "cd47cd33",
   "metadata": {},
   "outputs": [
    {
     "name": "stdout",
     "output_type": "stream",
     "text": [
      "enter your height in m: 1.5\n",
      "enter your weight in kg: 65\n",
      "Your BMI is  28 You are slightly overweight\n"
     ]
    }
   ],
   "source": [
    "# 🚨 Don't change the code below 👇\n",
    "height = float(input(\"enter your height in m: \"))\n",
    "weight = float(input(\"enter your weight in kg: \"))\n",
    "# 🚨 Don't change the code above 👆\n",
    "\n",
    "#Write your code below this line 👇\n",
    "\n",
    "BMI= int(weight / height**2)\n",
    "if BMI < 18.5:\n",
    "  print(\"Your BMI is \",BMI, \"You are underweight\")\n",
    "elif(BMI<25):\n",
    "  print(\"Your BMI is \",BMI, \"You are Normal\")\n",
    "elif(BMI<30):\n",
    "  print(\"Your BMI is \",BMI, \"You are slightly overweight\")\n",
    "elif(BMI<35):\n",
    "  print(\"Your BMI is \",BMI ,\"You are obese\")\n",
    "else:\n",
    "  print(\"Your BMI is \",BMI ,\"You are Clinically obese\")\n"
   ]
  },
  {
   "cell_type": "code",
   "execution_count": 3,
   "id": "95545948",
   "metadata": {},
   "outputs": [
    {
     "name": "stdout",
     "output_type": "stream",
     "text": [
      "Which year do you want to check? 2100\n",
      "Not leap year.\n"
     ]
    }
   ],
   "source": [
    "# 🚨 Don't change the code below 👇\n",
    "year = int(input(\"Which year do you want to check? \"))\n",
    "# 🚨 Don't change the code above 👆\n",
    "\n",
    "#Refer to the flow chart here: https://bit.ly/36BjS2D\n",
    "\n",
    "if year % 4 == 0:\n",
    "  if year % 100 == 0:\n",
    "    if year % 400 == 0:\n",
    "      print(\"Leap year.\")\n",
    "    else:\n",
    "      print(\"Not leap year.\")\n",
    "  else:\n",
    "    print(\"Leap year.\")\n",
    "else:\n",
    "  print(\"Not leap year.\")\n",
    "  "
   ]
  },
  {
   "cell_type": "code",
   "execution_count": 6,
   "id": "8eb11d75",
   "metadata": {},
   "outputs": [
    {
     "name": "stdout",
     "output_type": "stream",
     "text": [
      "Welcome to Python Pizza Deliveries!\n",
      "What size pizza do you want? S, M, or L l\n",
      "Do you want pepperoni? Y or N y\n",
      "Do you want extra cheese? Y or N y\n",
      "your total bill is 29\n"
     ]
    }
   ],
   "source": [
    "# 🚨 Don't change the code below 👇\n",
    "print(\"Welcome to Python Pizza Deliveries!\")\n",
    "size = input(\"What size pizza do you want? S, M, or L \")\n",
    "add_pepperoni = input(\"Do you want pepperoni? Y or N \")\n",
    "extra_cheese = input(\"Do you want extra cheese? Y or N \")\n",
    "# 🚨 Don't change the code above 👆\n",
    "\n",
    "#Write your code below this line 👇\n",
    "bill=0\n",
    "if (size=='s'):\n",
    "  bill+=15\n",
    "elif(size=='m'):\n",
    "   bill+=20\n",
    "elif(size=='l'):\n",
    "   bill+=25\n",
    "\n",
    "if(add_pepperoni=='y'):\n",
    "  if(size=='s'):\n",
    "    bill+=2\n",
    "  else:\n",
    "    bill+=3\n",
    "if(extra_cheese=='y'):\n",
    "  bill+=1\n",
    "\n",
    "print(f\"your total bill is {bill}\")"
   ]
  },
  {
   "cell_type": "code",
   "execution_count": 7,
   "id": "ddb335b3",
   "metadata": {},
   "outputs": [
    {
     "name": "stdout",
     "output_type": "stream",
     "text": [
      "Welcome to the Love Calculator!\n",
      "What is your name? \n",
      "bhaumik\n",
      "What is their name? \n",
      "khushali\n",
      "Your score is 21\n"
     ]
    }
   ],
   "source": [
    "# 🚨 Don't change the code below 👇\n",
    "print(\"Welcome to the Love Calculator!\")\n",
    "name1 = input(\"What is your name? \\n\")\n",
    "name2 = input(\"What is their name? \\n\")\n",
    "# 🚨 Don't change the code above 👆\n",
    "\n",
    "#Write your code below this line 👇\n",
    "\n",
    "\n",
    "total_name = name1 + name2\n",
    "lower_name = total_name.lower()\n",
    "\n",
    "t=lower_name.count(\"t\")\n",
    "r=lower_name.count(\"r\")\n",
    "u=lower_name.count(\"u\")\n",
    "e=lower_name.count(\"e\")\n",
    "\n",
    "true = t+r+u+e\n",
    "\n",
    "l=lower_name.count(\"l\")\n",
    "o=lower_name.count(\"o\")\n",
    "v=lower_name.count(\"v\")\n",
    "e=lower_name.count(\"e\")\n",
    "\n",
    "love = l+o+v+e\n",
    "\n",
    "score = int(str(true) + str(love))\n",
    "\n",
    "\n",
    "if((score< 10) or (score>90)):\n",
    "  print(f\"Your score is {score}, you go together like coke and mentos.\")\n",
    "  \n",
    "elif((score >=40) and (score<=50)):\n",
    "  print(f\"Your score is {score}, you are alright together.\")\n",
    "\n",
    "  \n",
    "else:\n",
    "  print(f\"Your score is {score}\")"
   ]
  },
  {
   "cell_type": "code",
   "execution_count": null,
   "id": "db83a06d",
   "metadata": {},
   "outputs": [],
   "source": [
    "print('''\n",
    "*******************************************************************************\n",
    "          |                   |                  |                     |\n",
    " _________|________________.=\"\"_;=.______________|_____________________|_______\n",
    "|                   |  ,-\"_,=\"\"     `\"=.|                  |\n",
    "|___________________|__\"=._o`\"-._        `\"=.______________|___________________\n",
    "          |                `\"=._o`\"=._      _`\"=._                     |\n",
    " _________|_____________________:=._o \"=._.\"_.-=\"'\"=.__________________|_______\n",
    "|                   |    __.--\" , ; `\"=._o.\" ,-\"\"\"-._ \".   |\n",
    "|___________________|_._\"  ,. .` ` `` ,  `\"-._\"-._   \". '__|___________________\n",
    "          |           |o`\"=._` , \"` `; .\". ,  \"-._\"-._; ;              |\n",
    " _________|___________| ;`-.o`\"=._; .\" ` '`.\"\\` . \"-._ /_______________|_______\n",
    "|                   | |o;    `\"-.o`\"=._``  '` \" ,__.--o;   |\n",
    "|___________________|_| ;     (#) `-.o `\"=.`_.--\"_o.-; ;___|___________________\n",
    "____/______/______/___|o;._    \"      `\".o|o_.--\"    ;o;____/______/______/____\n",
    "/______/______/______/_\"=._o--._        ; | ;        ; ;/______/______/______/_\n",
    "____/______/______/______/__\"=._o--._   ;o|o;     _._;o;____/______/______/____\n",
    "/______/______/______/______/____\"=._o._; | ;_.--\"o.--\"_/______/______/______/_\n",
    "____/______/______/______/______/_____\"=.o|o_.--\"\"___/______/______/______/____\n",
    "/______/______/______/______/______/______/______/______/______/______/_____ /\n",
    "*******************************************************************************\n",
    "''')\n",
    "print(\"Welcome to Treasure Island.\")\n",
    "print(\"Your mission is to find the treasure.\") \n",
    "\n",
    "#https://www.draw.io/?lightbox=1&highlight=0000ff&edit=_blank&layers=1&nav=1&title=Treasure%20Island%20Conditional.drawio#Uhttps%3A%2F%2Fdrive.google.com%2Fuc%3Fid%3D1oDe4ehjWZipYRsVfeAx2HyB7LCQ8_Fvi%26export%3Ddownload\n",
    "\n",
    "#Write your code below this line 👇\n",
    "direction= input(\" You're at a crossroad. Where do you want to go? Type left or right\\n\")\n",
    "\n",
    "\n",
    "if(direction=='left'):\n",
    "  s_w= input('''You\\'ve come to a lake. There is an island in the\n",
    " middle of the lake. Type wait to wait for a boat. Type swim to \n",
    " swim across.\\n''')\n",
    "  if(s_w == 'wait'):\n",
    "    r_b_y=input('''You arrive at the island unharmed. There is a \n",
    "    house with 3 doors. One red, one yellow and one blue. Which \n",
    "    colour do you choose?\\n''')\n",
    "    if(r_b_y == 'yellow'):\n",
    "        print(\"you wil!\")\n",
    "    else:\n",
    "        print(\"Game Over\")\n",
    "  \n",
    "  else:\n",
    "    print(\"Game Over\")\n",
    "\n",
    "else:\n",
    "  print(\"Game Over\")\n"
   ]
  },
  {
   "cell_type": "code",
   "execution_count": null,
   "id": "3c62b305",
   "metadata": {},
   "outputs": [],
   "source": []
  }
 ],
 "metadata": {
  "kernelspec": {
   "display_name": "Python 3 (ipykernel)",
   "language": "python",
   "name": "python3"
  },
  "language_info": {
   "codemirror_mode": {
    "name": "ipython",
    "version": 3
   },
   "file_extension": ".py",
   "mimetype": "text/x-python",
   "name": "python",
   "nbconvert_exporter": "python",
   "pygments_lexer": "ipython3",
   "version": "3.9.12"
  }
 },
 "nbformat": 4,
 "nbformat_minor": 5
}
