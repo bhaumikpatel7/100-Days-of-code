{
 "cells": [
  {
   "cell_type": "code",
   "execution_count": null,
   "id": "a772a5c4",
   "metadata": {},
   "outputs": [],
   "source": [
    "#Loops"
   ]
  },
  {
   "cell_type": "code",
   "execution_count": 3,
   "id": "09329cdf",
   "metadata": {},
   "outputs": [
    {
     "name": "stdout",
     "output_type": "stream",
     "text": [
      "1\n",
      "2\n",
      "4\n",
      "5\n",
      "6\n",
      "7\n"
     ]
    }
   ],
   "source": [
    "num=[1,2,4,5,6,7]\n",
    "for i in num:\n",
    " print(i)"
   ]
  },
  {
   "cell_type": "code",
   "execution_count": 4,
   "id": "bb35e6d4",
   "metadata": {},
   "outputs": [
    {
     "name": "stdout",
     "output_type": "stream",
     "text": [
      "Input a list of student heights 156 178 165 171 187\n",
      "avg is  171\n"
     ]
    }
   ],
   "source": [
    "# 🚨 Don't change the code below 👇\n",
    "student_heights = input(\"Input a list of student heights \").split()\n",
    "for n in range(0, len(student_heights)):\n",
    "  student_heights[n] = int(student_heights[n])\n",
    "# 🚨 Don't change the code above 👆\n",
    "\n",
    "\n",
    "#Write your code below this row 👇\n",
    "\n",
    "for i in student_heights:\n",
    "  a=sum(student_heights)\n",
    "\n",
    "\n",
    "c=round(a/len(student_heights))\n",
    "  \n",
    "print(\"avg is \",c)\n"
   ]
  },
  {
   "cell_type": "code",
   "execution_count": 6,
   "id": "b7ddb19a",
   "metadata": {},
   "outputs": [],
   "source": [
    "#without len() and sum() functions"
   ]
  },
  {
   "cell_type": "code",
   "execution_count": 7,
   "id": "9082c32f",
   "metadata": {},
   "outputs": [
    {
     "name": "stdout",
     "output_type": "stream",
     "text": [
      "Input a list of student heights 156 178 165 171 187\n",
      "total height is  857\n",
      "total students are 5\n",
      "avg is  171\n"
     ]
    }
   ],
   "source": [
    "# 🚨 Don't change the code below 👇\n",
    "student_heights = input(\"Input a list of student heights \").split()\n",
    "for n in range(0, len(student_heights)):\n",
    "  student_heights[n] = int(student_heights[n])\n",
    "# 🚨 Don't change the code above 👆\n",
    "\n",
    "\n",
    "#Write your code below this row 👇\n",
    "a=0\n",
    "for i in student_heights:\n",
    "  a=i+a\n",
    "print(\"total height is \",a)\n",
    "\n",
    "\n",
    "StudentNumber=0\n",
    "\n",
    "for Number in  student_heights:\n",
    "  StudentNumber+=1\n",
    "\n",
    "print(\"total students are\",StudentNumber)\n",
    "  \n",
    "print(\"avg is \",round(a/StudentNumber))\n"
   ]
  },
  {
   "cell_type": "code",
   "execution_count": 8,
   "id": "106928a3",
   "metadata": {},
   "outputs": [
    {
     "name": "stdout",
     "output_type": "stream",
     "text": [
      "Input a list of student scores 78 65 89 86 55 91 64 89\n",
      "[78, 65, 89, 86, 55, 91, 64, 89]\n",
      "The highest score in the class is: 91\n",
      "This output is using the max function 91\n",
      "The highest score in the class is: 91\n"
     ]
    }
   ],
   "source": [
    "# 🚨 Don't change the code below 👇\n",
    "student_scores = input(\"Input a list of student scores \").split()\n",
    "for n in range(0, len(student_scores)):\n",
    "  student_scores[n] = int(student_scores[n])\n",
    "print(student_scores)\n",
    "# 🚨 Don't change the code above 👆\n",
    "\n",
    "#Write your code below this row 👇\n",
    "#using sort()function\n",
    "student_scores.sort(reverse=True)\n",
    "print(\"The highest score in the class is:\",student_scores[0])\n",
    "\n",
    "# using max Fucntion\n",
    "print(\"This output is using the max function\",max(student_scores))\n",
    "\n",
    "#using loop\n",
    "highest_score=0\n",
    "for score in student_scores:\n",
    "  if highest_score < score:\n",
    "    highest_score = score\n",
    "print(\"The highest score in the class is:\",highest_score)"
   ]
  },
  {
   "cell_type": "code",
   "execution_count": 9,
   "id": "99cef80d",
   "metadata": {},
   "outputs": [
    {
     "name": "stdout",
     "output_type": "stream",
     "text": [
      "2550\n"
     ]
    }
   ],
   "source": [
    "#Write your code below this row 👇\n",
    "a=0\n",
    "for i in range(0,101,2):\n",
    "  a=a+i\n",
    "print(a)"
   ]
  },
  {
   "cell_type": "code",
   "execution_count": 10,
   "id": "64593064",
   "metadata": {},
   "outputs": [
    {
     "name": "stdout",
     "output_type": "stream",
     "text": [
      "1\n",
      "2\n",
      "Fizz\n",
      "4\n",
      "Buzz\n",
      "Fizz\n",
      "7\n",
      "8\n",
      "Fizz\n",
      "Buzz\n",
      "11\n",
      "Fizz\n",
      "13\n",
      "14\n",
      "FizzBuzz\n",
      "16\n",
      "17\n",
      "Fizz\n",
      "19\n",
      "Buzz\n",
      "Fizz\n",
      "22\n",
      "23\n",
      "Fizz\n",
      "Buzz\n",
      "26\n",
      "Fizz\n",
      "28\n",
      "29\n",
      "FizzBuzz\n",
      "31\n",
      "32\n",
      "Fizz\n",
      "34\n",
      "Buzz\n",
      "Fizz\n",
      "37\n",
      "38\n",
      "Fizz\n",
      "Buzz\n",
      "41\n",
      "Fizz\n",
      "43\n",
      "44\n",
      "FizzBuzz\n",
      "46\n",
      "47\n",
      "Fizz\n",
      "49\n",
      "Buzz\n",
      "Fizz\n",
      "52\n",
      "53\n",
      "Fizz\n",
      "Buzz\n",
      "56\n",
      "Fizz\n",
      "58\n",
      "59\n",
      "FizzBuzz\n",
      "61\n",
      "62\n",
      "Fizz\n",
      "64\n",
      "Buzz\n",
      "Fizz\n",
      "67\n",
      "68\n",
      "Fizz\n",
      "Buzz\n",
      "71\n",
      "Fizz\n",
      "73\n",
      "74\n",
      "FizzBuzz\n",
      "76\n",
      "77\n",
      "Fizz\n",
      "79\n",
      "Buzz\n",
      "Fizz\n",
      "82\n",
      "83\n",
      "Fizz\n",
      "Buzz\n",
      "86\n",
      "Fizz\n",
      "88\n",
      "89\n",
      "FizzBuzz\n",
      "91\n",
      "92\n",
      "Fizz\n",
      "94\n",
      "Buzz\n",
      "Fizz\n",
      "97\n",
      "98\n",
      "Fizz\n",
      "Buzz\n"
     ]
    }
   ],
   "source": [
    "#Write your code below this row 👇\n",
    "\n",
    "for i in range(1,101):\n",
    "  if(i%3==0 and i%5==0):\n",
    "    print(\"FizzBuzz\")\n",
    " \n",
    "  elif(i%3==0):\n",
    "    print(\"Fizz\")\n",
    "  elif(i%5==0):\n",
    "    print(\"Buzz\")\n",
    "  else:\n",
    "    print(i)\n",
    "  "
   ]
  },
  {
   "cell_type": "code",
   "execution_count": 11,
   "id": "9a761e28",
   "metadata": {},
   "outputs": [
    {
     "name": "stdout",
     "output_type": "stream",
     "text": [
      "Welcome to the PyPassword Generator!\n",
      "How many letters would you like in your password?\n",
      "4\n",
      "How many symbols would you like?\n",
      "3\n",
      "How many numbers would you like?\n",
      "3\n",
      "jpEs134**$\n"
     ]
    }
   ],
   "source": [
    "#Password Generator Project\n",
    "import random\n",
    "letters = ['a', 'b', 'c', 'd', 'e', 'f', 'g', 'h', 'i', 'j', 'k', 'l', 'm', 'n', 'o', 'p', 'q', 'r', 's', 't', 'u', 'v', 'w', 'x', 'y', 'z', 'A', 'B', 'C', 'D', 'E', 'F', 'G', 'H', 'I', 'J', 'K', 'L', 'M', 'N', 'O', 'P', 'Q', 'R', 'S', 'T', 'U', 'V', 'W', 'X', 'Y', 'Z']\n",
    "numbers = ['0', '1', '2', '3', '4', '5', '6', '7', '8', '9']\n",
    "symbols = ['!', '#', '$', '%', '&', '(', ')', '*', '+']\n",
    "\n",
    "print(\"Welcome to the PyPassword Generator!\")\n",
    "nr_letters= int(input(\"How many letters would you like in your password?\\n\")) \n",
    "nr_symbols = int(input(f\"How many symbols would you like?\\n\"))\n",
    "nr_numbers = int(input(f\"How many numbers would you like?\\n\"))\n",
    "\n",
    "#Eazy Level - Order not randomised:\n",
    "#e.g. 4 letter, 2 symbol, 2 number = JduE&!91\n",
    "password = \"\"\n",
    "for i in range(1,nr_letters+1):\n",
    "  a=random.choice(letters)\n",
    "  password = password+a\n",
    "\n",
    "for j in range(1,nr_numbers+1):\n",
    "  b = random.choice(numbers)\n",
    "  password = password+b\n",
    "\n",
    "\n",
    "for k in range(1,nr_symbols+1):\n",
    "  c = random.choice(symbols)\n",
    "  password = password+c\n",
    "print(password)"
   ]
  },
  {
   "cell_type": "code",
   "execution_count": 12,
   "id": "cb2a2bc3",
   "metadata": {},
   "outputs": [
    {
     "name": "stdout",
     "output_type": "stream",
     "text": [
      "Welcome to the PyPassword Generator!\n",
      "How many letters would you like in your password?\n",
      "4\n",
      "How many symbols would you like?\n",
      "3\n",
      "How many numbers would you like?\n",
      "3\n",
      "['V', 'l', 'C', 'f', '7', '5', '7', '%', '&', '*']\n",
      "['V', '%', '&', 'C', 'f', '*', '7', '7', 'l', '5']\n",
      "V%&Cf*77l5\n"
     ]
    }
   ],
   "source": [
    "#Password Generator Project\n",
    "import random\n",
    "letters = ['a', 'b', 'c', 'd', 'e', 'f', 'g', 'h', 'i', 'j', 'k', 'l', 'm', 'n', 'o', 'p', 'q', 'r', 's', 't', 'u', 'v', 'w', 'x', 'y', 'z', 'A', 'B', 'C', 'D', 'E', 'F', 'G', 'H', 'I', 'J', 'K', 'L', 'M', 'N', 'O', 'P', 'Q', 'R', 'S', 'T', 'U', 'V', 'W', 'X', 'Y', 'Z']\n",
    "numbers = ['0', '1', '2', '3', '4', '5', '6', '7', '8', '9']\n",
    "symbols = ['!', '#', '$', '%', '&', '(', ')', '*', '+']\n",
    "\n",
    "print(\"Welcome to the PyPassword Generator!\")\n",
    "nr_letters= int(input(\"How many letters would you like in your password?\\n\")) \n",
    "nr_symbols = int(input(f\"How many symbols would you like?\\n\"))\n",
    "nr_numbers = int(input(f\"How many numbers would you like?\\n\"))\n",
    "\n",
    "\n",
    "#Hard Level - Order of characters randomised:\n",
    "#e.g. 4 letter, 2 symbol, 2 number = g^2jk8&P\n",
    "\n",
    "password = []\n",
    "\n",
    "for i in range(1,nr_letters+1):\n",
    "  password.append(random.choice(letters))\n",
    "  #password = password+a\n",
    "\n",
    "for j in range(1,nr_numbers+1):\n",
    "  password.append(random.choice(numbers))\n",
    "  #password = password+b\n",
    "\n",
    "\n",
    "for k in range(1,nr_symbols+1):\n",
    "   password.append(random.choice(symbols))\n",
    "  #password = password+c\n",
    "print(password)\n",
    "random.shuffle(password)\n",
    "print(password)\n",
    "new_password = \"\"\n",
    "for d in password:\n",
    "  new_password+=d\n",
    "\n",
    "print(new_password)\n"
   ]
  },
  {
   "cell_type": "code",
   "execution_count": null,
   "id": "69751c36",
   "metadata": {},
   "outputs": [],
   "source": []
  }
 ],
 "metadata": {
  "kernelspec": {
   "display_name": "Python 3 (ipykernel)",
   "language": "python",
   "name": "python3"
  },
  "language_info": {
   "codemirror_mode": {
    "name": "ipython",
    "version": 3
   },
   "file_extension": ".py",
   "mimetype": "text/x-python",
   "name": "python",
   "nbconvert_exporter": "python",
   "pygments_lexer": "ipython3",
   "version": "3.9.12"
  }
 },
 "nbformat": 4,
 "nbformat_minor": 5
}
